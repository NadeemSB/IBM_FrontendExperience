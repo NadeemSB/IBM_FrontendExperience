{
  "nbformat": 4,
  "nbformat_minor": 0,
  "metadata": {
    "colab": {
      "name": "Passport_OCR.ipynb",
      "provenance": [],
      "collapsed_sections": [],
      "include_colab_link": true
    },
    "kernelspec": {
      "name": "python3",
      "display_name": "Python 3"
    },
    "language_info": {
      "name": "python"
    }
  },
  "cells": [
    {
      "cell_type": "markdown",
      "metadata": {
        "id": "view-in-github",
        "colab_type": "text"
      },
      "source": [
        "<a href=\"https://colab.research.google.com/github/NadeemSB/IBM_FrontendExperience/blob/main/Passport_OCR.ipynb\" target=\"_parent\"><img src=\"https://colab.research.google.com/assets/colab-badge.svg\" alt=\"Open In Colab\"/></a>"
      ]
    },
    {
      "cell_type": "code",
      "source": [
        "from imutils import paths\n",
        "import numpy as np\n",
        "import argparse\n",
        "import imutils\n",
        "import cv2\n",
        "!sudo apt install tesseract-ocr\n",
        "!pip install pytesseract"
      ],
      "metadata": {
        "id": "KBDRHe85zGF2",
        "colab": {
          "base_uri": "https://localhost:8080/"
        },
        "outputId": "406890e9-7ad3-4525-9db0-438a06684050"
      },
      "execution_count": null,
      "outputs": [
        {
          "output_type": "stream",
          "name": "stdout",
          "text": [
            "Reading package lists... Done\n",
            "Building dependency tree       \n",
            "Reading state information... Done\n",
            "tesseract-ocr is already the newest version (4.00~git2288-10f4998a-2).\n",
            "The following package was automatically installed and is no longer required:\n",
            "  libnvidia-common-460\n",
            "Use 'sudo apt autoremove' to remove it.\n",
            "0 upgraded, 0 newly installed, 0 to remove and 49 not upgraded.\n",
            "Looking in indexes: https://pypi.org/simple, https://us-python.pkg.dev/colab-wheels/public/simple/\n",
            "Requirement already satisfied: pytesseract in /usr/local/lib/python3.7/dist-packages (0.3.9)\n",
            "Requirement already satisfied: Pillow>=8.0.0 in /usr/local/lib/python3.7/dist-packages (from pytesseract) (9.0.0)\n",
            "Requirement already satisfied: packaging>=21.3 in /usr/local/lib/python3.7/dist-packages (from pytesseract) (21.3)\n",
            "Requirement already satisfied: pyparsing!=3.0.5,>=2.0.2 in /usr/local/lib/python3.7/dist-packages (from packaging>=21.3->pytesseract) (3.0.9)\n"
          ]
        }
      ]
    },
    {
      "cell_type": "code",
      "source": [
        "rectKernel = cv2.getStructuringElement(cv2.MORPH_RECT, (13, 5))\n",
        "sqKernel = cv2.getStructuringElement(cv2.MORPH_RECT, (21, 21))\n",
        "image = cv2.imread(\"/content/passport.jpg\")\n",
        "image = imutils.resize(image, height=600)\n",
        "gray = cv2.cvtColor(image, cv2.COLOR_BGR2GRAY)\n",
        "gray = cv2.GaussianBlur(gray, (3, 3), 0)\n",
        "blackhat = cv2.morphologyEx(gray, cv2.MORPH_BLACKHAT, rectKernel)"
      ],
      "metadata": {
        "id": "BrXTwszW1jR8"
      },
      "execution_count": null,
      "outputs": []
    },
    {
      "cell_type": "code",
      "source": [
        "gradX = cv2.Sobel(blackhat, ddepth=cv2.CV_32F, dx=1, dy=0, ksize=-1)\n",
        "gradX = np.absolute(gradX)\n",
        "(minVal, maxVal) = (np.min(gradX), np.max(gradX))\n",
        "gradX = (255 * ((gradX - minVal) / (maxVal - minVal))).astype(\"uint8\")\n",
        "gradX = cv2.morphologyEx(gradX, cv2.MORPH_CLOSE, rectKernel)\n",
        "thresh = cv2.threshold(gradX, 0, 255, cv2.THRESH_BINARY | cv2.THRESH_OTSU)[1]\n",
        "thresh = cv2.morphologyEx(thresh, cv2.MORPH_CLOSE, sqKernel)\n",
        "thresh = cv2.dilate(thresh, sqKernel ,iterations = 2)\n",
        "thresh = cv2.erode(thresh, None, iterations=2)\n",
        "cv2.imwrite(\"/content/result.jpg\",thresh)\n",
        "p = int(image.shape[1] * 0.05)\n",
        "thresh[:, 0:p] = 0\n",
        "thresh[:, image.shape[1] - p:] = 0\n"
      ],
      "metadata": {
        "id": "SMxAkgrd3L_T"
      },
      "execution_count": null,
      "outputs": []
    },
    {
      "cell_type": "code",
      "source": [
        "cnts = cv2.findContours(thresh.copy(), cv2.RETR_EXTERNAL,cv2.CHAIN_APPROX_SIMPLE)\n",
        "cnts = imutils.grab_contours(cnts)\n",
        "cnts = sorted(cnts, key=cv2.contourArea, reverse=True)\n",
        "for c in cnts:\n",
        "\t\t# compute the bounding box of the contour and use the contour to\n",
        "\t\t# compute the aspect ratio and coverage ratio of the bounding box\n",
        "\t\t# width to the width of the image\n",
        "\t(x, y, w, h) = cv2.boundingRect(c)\n",
        "\tar = w / float(h)\n",
        "\tcrWidth = w / float(gray.shape[1])\n",
        "\t\t# check to see if the aspect ratio and coverage width are within\n",
        "\t\t# acceptable criteria\n",
        "\tif ar > 5 and crWidth > 0.75:\n",
        "\t\t\t# pad the bounding box since we applied erosions\n",
        "\t\tpX = int((x + w) * 0.03)\n",
        "\t\tpY = int((y + h) * 0.03)\n",
        "\t\t(x, y) = (x - pX, y - pY)\n",
        "\t\t(w, h) = (w + (pX * 2), h + (pY * 2))\n",
        "\t\t\t# extract the ROI from the image and draw a bounding box\n",
        "\t\t\t# surrounding the MRZ\t\t\n",
        "\t\troi = image[y:y + h, x:x + w].copy()\n",
        "\t\tcv2.rectangle(image, (x, y), (x + w, y + h), (0, 255, 0), 2)\n",
        "\t# show the output images\n",
        "cv2.imwrite(\"/content/Image.jpg\", image)\n",
        "cv2.imwrite(\"/content/ROI.jpg\", roi)"
      ],
      "metadata": {
        "id": "XHjA5qCv3yU4",
        "colab": {
          "base_uri": "https://localhost:8080/"
        },
        "outputId": "301f221a-7604-45de-8125-e7fbd58ec3b0"
      },
      "execution_count": null,
      "outputs": [
        {
          "output_type": "execute_result",
          "data": {
            "text/plain": [
              "True"
            ]
          },
          "metadata": {},
          "execution_count": 4
        }
      ]
    },
    {
      "cell_type": "markdown",
      "source": [
        "# OCR Block"
      ],
      "metadata": {
        "id": "2rnSU0IZOoS8"
      }
    },
    {
      "cell_type": "code",
      "source": [
        "import pytesseract\n",
        "!pip install Pillow==9.0.0\n",
        "import shutil\n",
        "import os\n",
        "import random\n",
        "try:\n",
        "    from PIL import Image\n",
        "except ImportError:\n",
        "    import Image"
      ],
      "metadata": {
        "id": "glmFdqwlB5XQ",
        "colab": {
          "base_uri": "https://localhost:8080/"
        },
        "outputId": "0c7ffdd6-b768-4a90-ad10-f0ff1a6a0c5d"
      },
      "execution_count": null,
      "outputs": [
        {
          "output_type": "stream",
          "name": "stdout",
          "text": [
            "Looking in indexes: https://pypi.org/simple, https://us-python.pkg.dev/colab-wheels/public/simple/\n",
            "Requirement already satisfied: Pillow==9.0.0 in /usr/local/lib/python3.7/dist-packages (9.0.0)\n"
          ]
        }
      ]
    },
    {
      "cell_type": "code",
      "source": [
        "text = pytesseract.image_to_string(Image.open('ROI.jpg'))\n",
        "print(text)"
      ],
      "metadata": {
        "colab": {
          "base_uri": "https://localhost:8080/"
        },
        "id": "KuOrTy7rOJzQ",
        "outputId": "2871e632-4a93-4d6e-bc18-9cec9b7200a5"
      },
      "execution_count": null,
      "outputs": [
        {
          "output_type": "stream",
          "name": "stdout",
          "text": [
            "P<GBROTHER<<ADAM<NORMAN<<<<<<<<<<<<<<<K<<<dd\n",
            "0740254727GBS6001010M2002020<<<<<<d<Kdd<<<04\n",
            "\f\n"
          ]
        }
      ]
    },
    {
      "cell_type": "markdown",
      "source": [
        "# Web Application"
      ],
      "metadata": {
        "id": "oJrL9_8bOZ8w"
      }
    },
    {
      "cell_type": "code",
      "source": [
        "!pip install flask-ngrok\n",
        "from flask import Flask, render_template\n",
        "from flask_ngrok import run_with_ngrok"
      ],
      "metadata": {
        "id": "GMOsDrJOOf7x",
        "colab": {
          "base_uri": "https://localhost:8080/"
        },
        "outputId": "6d7cb50e-5a79-49ec-a26f-7bb32682fef3"
      },
      "execution_count": null,
      "outputs": [
        {
          "output_type": "stream",
          "name": "stdout",
          "text": [
            "Looking in indexes: https://pypi.org/simple, https://us-python.pkg.dev/colab-wheels/public/simple/\n",
            "Collecting flask-ngrok\n",
            "  Downloading flask_ngrok-0.0.25-py3-none-any.whl (3.1 kB)\n",
            "Requirement already satisfied: requests in /usr/local/lib/python3.7/dist-packages (from flask-ngrok) (2.23.0)\n",
            "Requirement already satisfied: Flask>=0.8 in /usr/local/lib/python3.7/dist-packages (from flask-ngrok) (1.1.4)\n",
            "Requirement already satisfied: itsdangerous<2.0,>=0.24 in /usr/local/lib/python3.7/dist-packages (from Flask>=0.8->flask-ngrok) (1.1.0)\n",
            "Requirement already satisfied: click<8.0,>=5.1 in /usr/local/lib/python3.7/dist-packages (from Flask>=0.8->flask-ngrok) (7.1.2)\n",
            "Requirement already satisfied: Jinja2<3.0,>=2.10.1 in /usr/local/lib/python3.7/dist-packages (from Flask>=0.8->flask-ngrok) (2.11.3)\n",
            "Requirement already satisfied: Werkzeug<2.0,>=0.15 in /usr/local/lib/python3.7/dist-packages (from Flask>=0.8->flask-ngrok) (1.0.1)\n",
            "Requirement already satisfied: MarkupSafe>=0.23 in /usr/local/lib/python3.7/dist-packages (from Jinja2<3.0,>=2.10.1->Flask>=0.8->flask-ngrok) (2.0.1)\n",
            "Requirement already satisfied: idna<3,>=2.5 in /usr/local/lib/python3.7/dist-packages (from requests->flask-ngrok) (2.10)\n",
            "Requirement already satisfied: urllib3!=1.25.0,!=1.25.1,<1.26,>=1.21.1 in /usr/local/lib/python3.7/dist-packages (from requests->flask-ngrok) (1.24.3)\n",
            "Requirement already satisfied: chardet<4,>=3.0.2 in /usr/local/lib/python3.7/dist-packages (from requests->flask-ngrok) (3.0.4)\n",
            "Requirement already satisfied: certifi>=2017.4.17 in /usr/local/lib/python3.7/dist-packages (from requests->flask-ngrok) (2022.6.15)\n",
            "Installing collected packages: flask-ngrok\n",
            "Successfully installed flask-ngrok-0.0.25\n"
          ]
        }
      ]
    },
    {
      "cell_type": "code",
      "source": [
        "from flask import Flask, render_template, request\n",
        "app = Flask(__name__)\n",
        "run_with_ngrok(app)\n",
        "@app.route('/', methods=['GET'])\n",
        "def index():\n",
        "    return render_template('/content/drive/MyDrive/Passport_POC/index.html')\n",
        "@app.route('/post', methods=['POST'])\n",
        "def post():\n",
        "    return text\n",
        "app.run()"
      ],
      "metadata": {
        "id": "_2ubBTZ9PCKW",
        "colab": {
          "base_uri": "https://localhost:8080/"
        },
        "outputId": "0c5e0599-6e4e-450e-9721-a58d2229cfd6"
      },
      "execution_count": null,
      "outputs": [
        {
          "output_type": "stream",
          "name": "stdout",
          "text": [
            " * Serving Flask app \"__main__\" (lazy loading)\n",
            " * Environment: production\n",
            "\u001b[31m   WARNING: This is a development server. Do not use it in a production deployment.\u001b[0m\n",
            "\u001b[2m   Use a production WSGI server instead.\u001b[0m\n",
            " * Debug mode: off\n"
          ]
        },
        {
          "output_type": "stream",
          "name": "stderr",
          "text": [
            " * Running on http://127.0.0.1:5000/ (Press CTRL+C to quit)\n"
          ]
        },
        {
          "output_type": "stream",
          "name": "stdout",
          "text": [
            " * Running on http://8312-35-231-71-75.ngrok.io\n",
            " * Traffic stats available on http://127.0.0.1:4040\n"
          ]
        }
      ]
    }
  ]
}